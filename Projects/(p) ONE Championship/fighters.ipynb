{
 "cells": [
  {
   "cell_type": "markdown",
   "metadata": {},
   "source": [
    "### Submissions vs Strikes for Strikes & Grapplers"
   ]
  },
  {
   "cell_type": "code",
   "execution_count": 2,
   "metadata": {},
   "outputs": [],
   "source": [
    "import seaborn as sns\n",
    "import plotly.express as px\n",
    "import pandas as pd\n",
    "import re"
   ]
  },
  {
   "cell_type": "markdown",
   "metadata": {},
   "source": [
    "Organizing, extracting, and sorting the data."
   ]
  },
  {
   "cell_type": "code",
   "execution_count": 13,
   "metadata": {},
   "outputs": [],
   "source": [
    "# Importing the .csv file for use\n",
    "df = pd.read_csv('(raw)pro_mma_fights.csv')\n",
    "\n",
    "# Subsetting the data to only include KO, TKO, and Submission wins\n",
    "winArray = ['TKO', 'KO', 'Submission']\n",
    "# Finds the row value in 'win_method' column by values in 'winArray'\n",
    "df = df.loc[df['win_method'].isin(winArray)]\n",
    "# Creating array for columns only needed\n",
    "removeCol = ['url', 'event_title', 'organisation', \n",
    "             'location', 'match_nr', \n",
    "             'fighter1_url', 'fighter2_url', 'referee']\n",
    "for col in removeCol:\n",
    "    df = df.drop(col, axis=1)"
   ]
  },
  {
   "cell_type": "markdown",
   "metadata": {},
   "source": [
    "Sorting through data and creating a subset containing each unique value."
   ]
  },
  {
   "cell_type": "code",
   "execution_count": 54,
   "metadata": {},
   "outputs": [],
   "source": [
    "dfKO = df[df['win_method'] == 'KO'] # defining new subset dataframe\n",
    "dfTKO = df[df['win_method'] == 'TKO'] # defining new subset dataframe\n",
    "dfSub = df[df['win_method'] == 'Submission'] # defining new subset dataframe"
   ]
  },
  {
   "cell_type": "markdown",
   "metadata": {},
   "source": [
    "Counting each specific type of KO based on body part used."
   ]
  },
  {
   "cell_type": "code",
   "execution_count": 55,
   "metadata": {},
   "outputs": [],
   "source": [
    "# Creating array for each unique win_detail\n",
    "KO_punch = []\n",
    "KO_kick = []\n",
    "KO_elbow = []\n",
    "KO_knee = []\n",
    "\n",
    "# Looping through each element in win_details for KOs\n",
    "for data in dfKO.itertuples():\n",
    "    # data[7] is the index in the dataset containing the win_details\n",
    "    if 'Knee' in data[7]: # Counts all KOs containing knee strikes\n",
    "        KO_knee.append(data[7])\n",
    "    if 'Punch' in data[7]: # Counts all KOs containing punches\n",
    "        KO_punch.append(data[7])\n",
    "    if 'Elbow' in data[7]: # Counts all KOs containing elbows\n",
    "        KO_elbow.append(data[7])\n",
    "    if 'Kick' in data[7]: # Counts all KOs containing kicks\n",
    "        KO_kick.append(data[7])"
   ]
  },
  {
   "cell_type": "code",
   "execution_count": 60,
   "metadata": {},
   "outputs": [],
   "source": [
    "# Creating array for each unique win_detail\n",
    "tKO_punch = []\n",
    "tKO_kick = []\n",
    "tKO_elbow = []\n",
    "tKO_knee = []\n",
    "tKO_stop = []\n",
    "tKO_retire = []\n",
    "tKO_injury = []\n",
    "\n",
    "for data in dfTKO.itertuples():\n",
    "    # data[7] is the index in the dataset containing the win_details\n",
    "    if 'Knee' in data[7]: # Counts all KOs containing knee strikes\n",
    "        tKO_knee.append(data[7])\n",
    "    if 'Punch' in data[7]: # Counts all KOs containing punches\n",
    "        tKO_punch.append(data[7])\n",
    "    if 'Elbow' in data[7]: # Counts all KOs containing elbows\n",
    "        tKO_elbow.append(data[7])\n",
    "    if 'Kick' in data[7]: # Counts all KOs containing kicks\n",
    "        tKO_kick.append(data[7])\n",
    "    if 'Stop' in data[7]:\n",
    "        tKO_stop.append(data[7])\n",
    "    if 'Retire' in data[7]:\n",
    "        tKO_retire.append(data[7])\n",
    "    if 'Injury' in data[7]:\n",
    "        tKO_injury.append(data[7])"
   ]
  },
  {
   "cell_type": "code",
   "execution_count": null,
   "metadata": {},
   "outputs": [],
   "source": []
  }
 ],
 "metadata": {
  "kernelspec": {
   "display_name": "Python 3",
   "language": "python",
   "name": "python3"
  },
  "language_info": {
   "codemirror_mode": {
    "name": "ipython",
    "version": 3
   },
   "file_extension": ".py",
   "mimetype": "text/x-python",
   "name": "python",
   "nbconvert_exporter": "python",
   "pygments_lexer": "ipython3",
   "version": "3.11.4"
  }
 },
 "nbformat": 4,
 "nbformat_minor": 2
}
