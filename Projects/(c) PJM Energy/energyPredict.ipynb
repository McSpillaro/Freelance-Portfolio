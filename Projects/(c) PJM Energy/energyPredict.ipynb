{
 "cells": [
  {
   "cell_type": "markdown",
   "metadata": {},
   "source": [
    "## Predicting Energy Consumption from PJM (in MW)\n",
    "\n",
    "Will also be comparing energy consumption from the East and West Regions of the United States as well as their projected energy consumption."
   ]
  },
  {
   "cell_type": "markdown",
   "metadata": {},
   "source": [
    "#### Functions & Imports"
   ]
  },
  {
   "cell_type": "code",
   "execution_count": 81,
   "metadata": {},
   "outputs": [],
   "source": [
    "import pandas as pd\n",
    "import seaborn as sbn\n",
    "import plotly as plt\n",
    "import scipy.optimize as sp\n",
    "import math as m\n",
    "import numpy as np"
   ]
  },
  {
   "cell_type": "code",
   "execution_count": 116,
   "metadata": {},
   "outputs": [],
   "source": [
    "def newtint(x, y, xx):\n",
    "    '''\n",
    "    Function that uses a Newton Interpolating Polynomial\n",
    "    Uses n-1 order polynomial given an n amount of data points to\n",
    "    return a value of the dependent variable => yint at a provided\n",
    "    independent variable => xx\n",
    "\n",
    "    Input:\n",
    "        x => array of independent variables\n",
    "        y => array of dependent variables\n",
    "        xx => desired x-value to interpolate\n",
    "\n",
    "    Output:\n",
    "        yint => interpolated value at xx\n",
    "    '''\n",
    "\n",
    "    # Check if the data is the same length\n",
    "    n = len(x)\n",
    "    if len(y) != n:\n",
    "        return 'X and Y must be the same length.'\n",
    "\n",
    "    # Initialize holder for calculations -> used to fill with dependent variables\n",
    "    b = np.zeros((n, n))\n",
    "    # Assign dependent variables to the 1st column of b for all rows in that column\n",
    "    b[:, 0] = np.transpose(y)  # switch from input row to input column in b\n",
    "\n",
    "    # Looping through each value in array to calculate the divided differences\n",
    "    for j in range(1, n):\n",
    "        for i in range(n-j):\n",
    "            # Equation for divided differences based on next and prev points (see slides)\n",
    "            b[i, j] = (b[i+1, j-1] - b[i, j-1]) / (x[i+j] - x[i])\n",
    "\n",
    "    xt = 1\n",
    "    yint = b[0, 0]\n",
    "\n",
    "    # Solves for yint based on xx and divided differences\n",
    "    for j in range(n-1):\n",
    "        xt *= (xx - x[j])\n",
    "        yint += b[0, j+1] * xt\n",
    "\n",
    "    return yint"
   ]
  },
  {
   "cell_type": "code",
   "execution_count": 82,
   "metadata": {},
   "outputs": [],
   "source": [
    "def lagrange(x, y, xx):\n",
    "    '''\n",
    "    Lagrange Interpolating Polynomial\n",
    "    Uses n-1 order lagrange interpolating polynomial based on n number of data points to \n",
    "    return a value of the dependent variable yint given the independent variable xx\n",
    "\n",
    "    Input:\n",
    "        x => array of independent variable values\n",
    "        y => array of dependent variable values\n",
    "        xx => desired independent variable to interpolate\n",
    "\n",
    "    Output:\n",
    "        yint => interpolated value\n",
    "    '''\n",
    "\n",
    "    # Checking to see if everything is the same length\n",
    "    n = len(x)\n",
    "    if len(y) != n:\n",
    "        return 'X and Y must be the same length'\n",
    "\n",
    "    # Creating a placeholder\n",
    "    s = 0\n",
    "\n",
    "    for i in range(n):\n",
    "        product = y[i]\n",
    "\n",
    "        for j in range(n):\n",
    "            if i != j:\n",
    "                # This is the weighting equation => L (see slides)\n",
    "                product *= (xx - x[j]) / (x[i] - x[j])\n",
    "        s += product\n",
    "\n",
    "    yint = s\n",
    "    return yint"
   ]
  },
  {
   "cell_type": "code",
   "execution_count": 129,
   "metadata": {},
   "outputs": [],
   "source": [
    "# Importing the csv files and assigning them as dataframes\n",
    "dfw = pd.read_csv('PJMW_hourly.csv')\n",
    "dfe = pd.read_csv('PJME_hourly.csv')"
   ]
  },
  {
   "cell_type": "markdown",
   "metadata": {},
   "source": [
    "#### West-region"
   ]
  },
  {
   "cell_type": "code",
   "execution_count": 84,
   "metadata": {},
   "outputs": [],
   "source": [
    "# Setting values to floats for 'PJMW_MW'\n",
    "pd.to_numeric(dfw['PJMW_MW'])\n",
    "\n",
    "usedYears = [] # Creating list of already used years\n",
    "year = 0 # init the year iter var\n",
    "\n",
    "valsPJMW = [] # Temp. list for averaging PJMW_MW vals per year\n",
    "avgs = [] # avg PJMW vals\n",
    "tmpAVG = 0\n",
    "\n",
    "# Looping through 'dfw' to sort the data by year and create model\n",
    "for row in dfw.itertuples():\n",
    "    year = row[1][0:4] # ind1 -> tuple key | ind2 -> tuple value\n",
    "    if year in usedYears:\n",
    "        valsPJMW.append(row[2])\n",
    "    elif year not in usedYears: # checks for start of new year\n",
    "        if not usedYears: # check for start of loop\n",
    "            usedYears.append(year) # appends curr year to usedYears list\n",
    "            continue\n",
    "        usedYears.append(year) # appends curr year to usedYears list\n",
    "        tmpAVG = np.average(valsPJMW) # averages PJMW vals per year before clearing valsPJMW\n",
    "        avgs.append(round(tmpAVG, 0))\n",
    "        valsPJMW.clear() # clears PJMW vals for new year\n",
    "        \n",
    "usedYears.pop(-1) # removes year 2018 as there are few PJMW vals for it \n",
    "for i in range(len(usedYears)): # type converts usedYears vals from str -> int\n",
    "    usedYears[i] = int(usedYears[i])"
   ]
  },
  {
   "cell_type": "markdown",
   "metadata": {},
   "source": [
    "Regression, Interpolation, and Visualization"
   ]
  },
  {
   "cell_type": "code",
   "execution_count": 148,
   "metadata": {},
   "outputs": [],
   "source": [
    "years = np.array(usedYears) # converting lists to array\n",
    "avgPJMWs = np.array(avgs) # converting lists to array\n",
    "\n",
    "p = np.polyfit(years, avgPJMWs, 4) # 2rd order regression\n",
    "a = p[0] # parameters (coeff) of regression equation -> 1st param\n",
    "b = p[1] # parameters (coeff) of regression equation -> 2nd param\n",
    "c = p[2] # parameters (coeff) of regression equation -> 3nd param\n",
    "d = p[3] # parameters (coeff) of regression equation -> 4th param\n",
    "e = p[4] # parameters (coeff) of regression equation -> 5th param"
   ]
  },
  {
   "cell_type": "code",
   "execution_count": 149,
   "metadata": {},
   "outputs": [],
   "source": [
    "def year_vs_PJMW_USWest(x): # defining equation obtained from regression of data\n",
    "    return a*x**4 + b*x**3 + c*x**2 + d*x + e"
   ]
  },
  {
   "cell_type": "code",
   "execution_count": 150,
   "metadata": {},
   "outputs": [],
   "source": [
    "newPJMWs = [] # temp lists for new PJMWs from regression equation\n",
    "\n",
    "startYear = 2018 # year to start regression from\n",
    "endYear = startYear + len(usedYears) # year to end regression\n",
    "newYears = np.linspace(startYear, endYear, 16) # year values as list\n",
    "\n",
    "for i in range(len(usedYears)): # projected PJMWs per year\n",
    "    newYears[i] = round(newYears[i], 0) # rounding years to whole num\n",
    "    newPJMWs.append(round(year_vs_PJMW_USWest(round(newYears[i], 0)), 0))\n",
    "    \n",
    "newPJMWs = np.array(newPJMWs) # convert list to array"
   ]
  },
  {
   "cell_type": "code",
   "execution_count": 151,
   "metadata": {},
   "outputs": [],
   "source": [
    "newPJMWs_Interpolated = [] # list for new PJMWs from lagrange interpolation\n",
    "\n",
    "for i in range(len(usedYears)): # looping through each new year to interpolate the value\n",
    "    newPJMWs_Interpolated.append(newtint(usedYears, avgs, newYears[i]))"
   ]
  },
  {
   "cell_type": "code",
   "execution_count": 154,
   "metadata": {},
   "outputs": [
    {
     "data": {
      "text/plain": [
       "<Axes: xlabel='Year', ylabel='PJMW'>"
      ]
     },
     "execution_count": 154,
     "metadata": {},
     "output_type": "execute_result"
    },
    {
     "data": {
      "image/png": "[encoded data removed]",
      "text/plain": [
       "<Figure size 640x480 with 1 Axes>"
      ]
     },
     "metadata": {},
     "output_type": "display_data"
    }
   ],
   "source": [
    "y = np.concatenate( # y-vals of graph -> PJMWs\n",
    "    (avgPJMWs, newPJMWs),\n",
    "    axis=0)\n",
    "\n",
    "x = np.concatenate( # x-vals of graph -> Years\n",
    "    (years, newYears),\n",
    "    axis=0\n",
    ")\n",
    "\n",
    "y2 = np.concatenate(\n",
    "    (avgPJMWs, newPJMWs_Interpolated),\n",
    "    axis=0\n",
    ")\n",
    "\n",
    "yr_v_pjmw = {'Year':x, 'PJMW':y} # creating dictionary of labeled columns\n",
    "\n",
    "plotDF = pd.DataFrame(yr_v_pjmw) # creating dataframe from dictionary for plotting\n",
    "\n",
    "sbn.lineplot(data=plotDF, x='Year', y='PJMW')"
   ]
  },
  {
   "cell_type": "code",
   "execution_count": null,
   "metadata": {},
   "outputs": [],
   "source": []
  },
  {
   "cell_type": "markdown",
   "metadata": {},
   "source": [
    "#### East-region"
   ]
  },
  {
   "cell_type": "code",
   "execution_count": 89,
   "metadata": {},
   "outputs": [],
   "source": [
    "# Using numerical methods to create a model from each dataset\n"
   ]
  }
 ],
 "metadata": {
  "kernelspec": {
   "display_name": "Python 3",
   "language": "python",
   "name": "python3"
  },
  "language_info": {
   "codemirror_mode": {
    "name": "ipython",
    "version": 3
   },
   "file_extension": ".py",
   "mimetype": "text/x-python",
   "name": "python",
   "nbconvert_exporter": "python",
   "pygments_lexer": "ipython3",
   "version": "3.11.5"
  }
 },
 "nbformat": 4,
 "nbformat_minor": 2
}
