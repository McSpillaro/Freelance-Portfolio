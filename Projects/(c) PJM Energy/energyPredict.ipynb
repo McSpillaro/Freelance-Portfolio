{
 "cells": [
  {
   "cell_type": "markdown",
   "metadata": {},
   "source": [
    "## Predicting Energy Consumption from PJM (in MW)\n",
    "\n",
    "Will also be comparing energy consumption from the East and West Regions of the United States as well as their projected energy consumption."
   ]
  },
  {
   "cell_type": "markdown",
   "metadata": {},
   "source": [
    "#### Functions & Imports"
   ]
  },
  {
   "cell_type": "code",
   "execution_count": 2,
   "metadata": {},
   "outputs": [],
   "source": [
    "import pandas as pd\n",
    "import seaborn as sbn\n",
    "import plotly as plt\n",
    "import scipy.optimize as sp\n",
    "import math as m\n",
    "import numpy as np"
   ]
  },
  {
   "cell_type": "code",
   "execution_count": 3,
   "metadata": {},
   "outputs": [],
   "source": [
    "def newtint(x, y, xx):\n",
    "    '''\n",
    "    Function that uses a Newton Interpolating Polynomial\n",
    "    Uses n-1 order polynomial given an n amount of data points to\n",
    "    return a value of the dependent variable => yint at a provided\n",
    "    independent variable => xx\n",
    "\n",
    "    Input:\n",
    "        x => array of independent variables\n",
    "        y => array of dependent variables\n",
    "        xx => desired x-value to interpolate\n",
    "\n",
    "    Output:\n",
    "        yint => interpolated value at xx\n",
    "    '''\n",
    "\n",
    "    # Check if the data is the same length\n",
    "    n = len(x)\n",
    "    if len(y) != n:\n",
    "        return 'X and Y must be the same length.'\n",
    "\n",
    "    # Initialize holder for calculations -> used to fill with dependent variables\n",
    "    b = np.zeros((n, n))\n",
    "    # Assign dependent variables to the 1st column of b for all rows in that column\n",
    "    b[:, 0] = np.transpose(y)  # switch from input row to input column in b\n",
    "\n",
    "    # Looping through each value in array to calculate the divided differences\n",
    "    for j in range(1, n):\n",
    "        for i in range(n-j):\n",
    "            # Equation for divided differences based on next and prev points (see slides)\n",
    "            b[i, j] = (b[i+1, j-1] - b[i, j-1]) / (x[i+j] - x[i])\n",
    "\n",
    "    xt = 1\n",
    "    yint = b[0, 0]\n",
    "\n",
    "    # Solves for yint based on xx and divided differences\n",
    "    for j in range(n-1):\n",
    "        xt *= (xx - x[j])\n",
    "        yint += b[0, j+1] * xt\n",
    "\n",
    "    return yint"
   ]
  },
  {
   "cell_type": "code",
   "execution_count": 4,
   "metadata": {},
   "outputs": [],
   "source": [
    "def lagrange(x, y, xx):\n",
    "    '''\n",
    "    Lagrange Interpolating Polynomial\n",
    "    Uses n-1 order lagrange interpolating polynomial based on n number of data points to \n",
    "    return a value of the dependent variable yint given the independent variable xx\n",
    "\n",
    "    Input:\n",
    "        x => array of independent variable values\n",
    "        y => array of dependent variable values\n",
    "        xx => desired independent variable to interpolate\n",
    "\n",
    "    Output:\n",
    "        yint => interpolated value\n",
    "    '''\n",
    "\n",
    "    # Checking to see if everything is the same length\n",
    "    n = len(x)\n",
    "    if len(y) != n:\n",
    "        return 'X and Y must be the same length'\n",
    "\n",
    "    # Creating a placeholder\n",
    "    s = 0\n",
    "\n",
    "    for i in range(n):\n",
    "        product = y[i]\n",
    "\n",
    "        for j in range(n):\n",
    "            if i != j:\n",
    "                # This is the weighting equation => L (see slides)\n",
    "                product *= (xx - x[j]) / (x[i] - x[j])\n",
    "        s += product\n",
    "\n",
    "    yint = s\n",
    "    return yint"
   ]
  },
  {
   "cell_type": "code",
   "execution_count": 5,
   "metadata": {},
   "outputs": [],
   "source": [
    "# Importing the csv files and assigning them as dataframes\n",
    "dfw = pd.read_csv('PJMW_hourly.csv')\n",
    "dfe = pd.read_csv('PJME_hourly.csv')"
   ]
  },
  {
   "cell_type": "markdown",
   "metadata": {},
   "source": [
    "#### West-region"
   ]
  },
  {
   "cell_type": "code",
   "execution_count": 12,
   "metadata": {},
   "outputs": [
    {
     "data": {
      "text/plain": [
       "2018.33"
      ]
     },
     "execution_count": 12,
     "metadata": {},
     "output_type": "execute_result"
    }
   ],
   "source": [
    "# Setting values to floats for 'PJMW_MW'\n",
    "pd.to_numeric(dfw['PJMW_MW'])\n",
    "\n",
    "used_year_month = [] # Creating list of already used months per year\n",
    "year_month = 0 # init the year_month iter var\n",
    "\n",
    "valsPJMW = [] # Temp. list for averaging PJMW_MW vals per year\n",
    "avg_per_year_month = [] # avg PJMW vals per month\n",
    "tmpAVG = 0\n",
    "\n",
    "# Looping through 'dfw' to sort the data by year and create model\n",
    "for row in dfw.itertuples():\n",
    "    year_month = row[1][0:7] # ind1 -> tuple key | ind2 -> tuple value\n",
    "    if year_month in used_year_month:\n",
    "        valsPJMW.append(row[2])\n",
    "    elif year_month not in used_year_month: # checks for start of new year\n",
    "        if not used_year_month: # check for start of loop\n",
    "            used_year_month.append(year_month) # appends curr year to usedYears list\n",
    "            continue\n",
    "        used_year_month.append(year_month) # appends curr year to usedYears list\n",
    "        tmpAVG = np.average(valsPJMW) # averages PJMW vals per year before clearing valsPJMW\n",
    "        avg_per_year_month.append(round(tmpAVG, 0))\n",
    "        valsPJMW.clear() # clears PJMW vals for new year\n",
    "    \n",
    "# Global CONSTANT for length of used_year_month to keep consistancy for future arrays\n",
    "array_length_const = len(used_year_month)\n",
    "\n",
    "years_list = [] # list of years used for graphing\n",
    "years_list_curr_val = int(dfw['Datetime'][0][0:4]) # sets current year value to 2002\n",
    "\n",
    "for i in range(array_length_const): # loops through length of array_length_const\n",
    "    years_list.append(round(years_list_curr_val, 2)) # appends to the list for graphing\n",
    "    years_list_curr_val += 1 / 12 # math to add onto the list evenly\n",
    "years_list.pop(-1) # removes last value from years_list (extra created from loop)"
   ]
  },
  {
   "cell_type": "markdown",
   "metadata": {},
   "source": [
    "Regression, Interpolation, and Visualization"
   ]
  },
  {
   "cell_type": "code",
   "execution_count": 41,
   "metadata": {},
   "outputs": [
    {
     "name": "stdout",
     "output_type": "stream",
     "text": [
      "[2002, 2002.08, 2002.17, 2002.25, 2002.33, 2002.42, 2002.5, 2002.58, 2002.67, 2002.75, 2002.83, 2002.92, 2003.0, 2003.08, 2003.17, 2003.25, 2003.33, 2003.42, 2003.5, 2003.58, 2003.67, 2003.75, 2003.83, 2003.92, 2004.0, 2004.08, 2004.17, 2004.25, 2004.33, 2004.42, 2004.5, 2004.58, 2004.67, 2004.75, 2004.83, 2004.92, 2005.0, 2005.08, 2005.17, 2005.25, 2005.33, 2005.42, 2005.5, 2005.58, 2005.67, 2005.75, 2005.83, 2005.92, 2006.0, 2006.08, 2006.17, 2006.25, 2006.33, 2006.42, 2006.5, 2006.58, 2006.67, 2006.75, 2006.83, 2006.92, 2007.0, 2007.08, 2007.17, 2007.25, 2007.33, 2007.42, 2007.5, 2007.58, 2007.67, 2007.75, 2007.83, 2007.92, 2008.0, 2008.08, 2008.17, 2008.25, 2008.33, 2008.42, 2008.5, 2008.58, 2008.67, 2008.75, 2008.83, 2008.92, 2009.0, 2009.08, 2009.17, 2009.25, 2009.33, 2009.42, 2009.5, 2009.58, 2009.67, 2009.75, 2009.83, 2009.92, 2010.0, 2010.08, 2010.17, 2010.25, 2010.33, 2010.42, 2010.5, 2010.58, 2010.67, 2010.75, 2010.83, 2010.92, 2011.0, 2011.08, 2011.17, 2011.25, 2011.33, 2011.42, 2011.5, 2011.58, 2011.67, 2011.75, 2011.83, 2011.92, 2012.0, 2012.08, 2012.17, 2012.25, 2012.33, 2012.42, 2012.5, 2012.58, 2012.67, 2012.75, 2012.83, 2012.92, 2013.0, 2013.08, 2013.17, 2013.25, 2013.33, 2013.42, 2013.5, 2013.58, 2013.67, 2013.75, 2013.83, 2013.92, 2014.0, 2014.08, 2014.17, 2014.25, 2014.33, 2014.42, 2014.5, 2014.58, 2014.67, 2014.75, 2014.83, 2014.92, 2015.0, 2015.08, 2015.17, 2015.25, 2015.33, 2015.42, 2015.5, 2015.58, 2015.67, 2015.75, 2015.83, 2015.92, 2016.0, 2016.08, 2016.17, 2016.25, 2016.33, 2016.42, 2016.5, 2016.58, 2016.67, 2016.75, 2016.83, 2016.92, 2017.0, 2017.08, 2017.17, 2017.25, 2017.33, 2017.42, 2017.5, 2017.58, 2017.67, 2017.75, 2017.83, 2017.92, 2018.0, 2018.08, 2018.17, 2018.25]\n",
      "[5533.0, 6176.0, 5584.0, 5313.0, 5422.0, 6064.0, 6100.0, 5687.0, 5086.0, 5171.0, 6269.0, 6269.0, 5447.0, 5276.0, 5309.0, 6026.0, 5821.0, 5401.0, 5027.0, 5232.0, 5642.0, 6500.0, 5547.0, 6424.0, 5604.0, 5314.0, 5562.0, 5911.0, 5957.0, 5719.0, 5513.0, 5427.0, 5779.0, 6619.0, 5565.0, 6597.0, 5782.0, 5439.0, 5778.0, 6472.0, 6393.0, 6159.0, 5252.0, 5385.0, 6219.0, 6522.0, 5044.0, 5715.0, 5262.0, 5029.0, 4911.0, 6016.0, 5895.0, 5317.0, 4877.0, 4789.0, 5541.0, 5891.0, 5650.0, 6060.0, 5435.0, 5106.0, 5350.0, 6080.0, 5563.0, 5508.0, 5035.0, 5218.0, 5599.0, 6366.0, 6174.0, 6013.0, 5459.0, 4986.0, 5146.0, 5458.0, 5778.0, 5564.0, 4841.0, 4959.0, 5628.0, 6274.0, 5978.0, 6035.0, 4959.0, 4734.0, 4750.0, 5542.0, 5106.0, 5061.0, 4573.0, 4851.0, 5337.0, 6300.0, 5425.0, 6513.0, 5257.0, 4734.0, 5064.0, 5841.0, 6038.0, 5691.0, 4964.0, 4739.0, 5323.0, 6394.0, 5029.0, 5727.0, 5159.0, 4838.0, 5029.0, 5711.0, 6100.0, 5481.0, 4950.0, 4961.0, 5563.0, 6333.0, 6232.0, 5696.0, 5486.0, 4807.0, 4974.0, 5661.0, 5945.0, 5342.0, 5100.0, 4754.0, 5014.0, 5981.0, 6465.0, 6069.0, 5617.0, 4996.0, 5007.0, 5447.0, 5826.0, 5366.0, 4975.0, 4946.0, 5883.0, 6289.0, 6651.0, 6031.0, 5664.0, 4891.0, 5179.0, 5483.0, 5581.0, 5502.0, 4899.0, 4978.0, 6080.0, 6824.0, 5248.0, 5370.0, 5055.0, 4809.0, 5288.0, 5584.0, 5783.0, 5508.0, 5153.0, 4956.0, 6017.0, 7011.0, 5916.0, 6139.0, 5236.0, 4760.0, 5421.0, 6257.0, 5963.0, 5462.0, 4860.0, 4938.0, 5185.0, 6373.0, 7549.0, 6314.0, 5474.0, 4946.0, 5112.0, 5610.0, 5844.0, 5480.0, 4902.0, 4807.0, 5682.0, 5905.0, 5902.0, 5980.0, 5560.0, 5280.0, 5282.0, 5974.0]\n"
     ]
    }
   ],
   "source": [
    "x_Years = np.array(years_list)\n",
    "y_PJMW = np.array(avg_per_year_month)\n",
    "\n",
    "p = np.polyfit(years_list, avg_per_year_month, 3) # 2rd order regression\n",
    "a = p[0] # parameters (coeff) of regression equation -> 1st param\n",
    "b = p[1] # parameters (coeff) of regression equation -> 2nd param\n",
    "c = p[2] # parameters (coeff) of regression equation -> 3nd param\n",
    "d = p[3] # parameters (coeff) of regression equation -> 3nd param\n",
    "\n",
    "print(years_list)\n",
    "print(avg_per_year_month)"
   ]
  },
  {
   "cell_type": "code",
   "execution_count": 35,
   "metadata": {},
   "outputs": [],
   "source": [
    "def year_vs_PJMW_USWest(x): # defining equation obtained from regression of data\n",
    "    return a*x**3 + b*x**2 + c*x + d"
   ]
  },
  {
   "cell_type": "code",
   "execution_count": 38,
   "metadata": {},
   "outputs": [],
   "source": [
    "newPJMWs = [] # temp lists for new PJMWs from regression equation\n",
    "\n",
    "start_year = 2018 # year to start regression from\n",
    "end_year = start_year + 16 # year to end regression\n",
    "new_years = np.linspace(start_year, end_year, 16) # year values as list\n",
    "\n",
    "for i in range(len(new_years)): # projected PJMWs per year\n",
    "    new_years[i] = round(new_years[i], 0) # rounding years to whole num\n",
    "    newPJMWs.append(round(year_vs_PJMW_USWest(round(new_years[i], 0)), 0))\n",
    "    \n",
    "regr_avg_per_year_month = np.array(newPJMWs) # convert list to array"
   ]
  },
  {
   "cell_type": "code",
   "execution_count": 39,
   "metadata": {},
   "outputs": [
    {
     "name": "stdout",
     "output_type": "stream",
     "text": [
      "[2002.   2002.08 2002.17 2002.25 2002.33 2002.42 2002.5  2002.58 2002.67\n",
      " 2002.75 2002.83 2002.92 2003.   2003.08 2003.17 2003.25 2003.33 2003.42\n",
      " 2003.5  2003.58 2003.67 2003.75 2003.83 2003.92 2004.   2004.08 2004.17\n",
      " 2004.25 2004.33 2004.42 2004.5  2004.58 2004.67 2004.75 2004.83 2004.92\n",
      " 2005.   2005.08 2005.17 2005.25 2005.33 2005.42 2005.5  2005.58 2005.67\n",
      " 2005.75 2005.83 2005.92 2006.   2006.08 2006.17 2006.25 2006.33 2006.42\n",
      " 2006.5  2006.58 2006.67 2006.75 2006.83 2006.92 2007.   2007.08 2007.17\n",
      " 2007.25 2007.33 2007.42 2007.5  2007.58 2007.67 2007.75 2007.83 2007.92\n",
      " 2008.   2008.08 2008.17 2008.25 2008.33 2008.42 2008.5  2008.58 2008.67\n",
      " 2008.75 2008.83 2008.92 2009.   2009.08 2009.17 2009.25 2009.33 2009.42\n",
      " 2009.5  2009.58 2009.67 2009.75 2009.83 2009.92 2010.   2010.08 2010.17\n",
      " 2010.25 2010.33 2010.42 2010.5  2010.58 2010.67 2010.75 2010.83 2010.92\n",
      " 2011.   2011.08 2011.17 2011.25 2011.33 2011.42 2011.5  2011.58 2011.67\n",
      " 2011.75 2011.83 2011.92 2012.   2012.08 2012.17 2012.25 2012.33 2012.42\n",
      " 2012.5  2012.58 2012.67 2012.75 2012.83 2012.92 2013.   2013.08 2013.17\n",
      " 2013.25 2013.33 2013.42 2013.5  2013.58 2013.67 2013.75 2013.83 2013.92\n",
      " 2014.   2014.08 2014.17 2014.25 2014.33 2014.42 2014.5  2014.58 2014.67\n",
      " 2014.75 2014.83 2014.92 2015.   2015.08 2015.17 2015.25 2015.33 2015.42\n",
      " 2015.5  2015.58 2015.67 2015.75 2015.83 2015.92 2016.   2016.08 2016.17\n",
      " 2016.25 2016.33 2016.42 2016.5  2016.58 2016.67 2016.75 2016.83 2016.92\n",
      " 2017.   2017.08 2017.17 2017.25 2017.33 2017.42 2017.5  2017.58 2017.67\n",
      " 2017.75 2017.83 2017.92 2018.   2018.08 2018.17 2018.25 2018.   2019.\n",
      " 2020.   2021.   2022.   2023.   2024.   2025.   2027.   2028.   2029.\n",
      " 2030.   2031.   2032.   2033.   2034.  ]\n",
      "[5533. 6176. 5584. 5313. 5422. 6064. 6100. 5687. 5086. 5171. 6269. 6269.\n",
      " 5447. 5276. 5309. 6026. 5821. 5401. 5027. 5232. 5642. 6500. 5547. 6424.\n",
      " 5604. 5314. 5562. 5911. 5957. 5719. 5513. 5427. 5779. 6619. 5565. 6597.\n",
      " 5782. 5439. 5778. 6472. 6393. 6159. 5252. 5385. 6219. 6522. 5044. 5715.\n",
      " 5262. 5029. 4911. 6016. 5895. 5317. 4877. 4789. 5541. 5891. 5650. 6060.\n",
      " 5435. 5106. 5350. 6080. 5563. 5508. 5035. 5218. 5599. 6366. 6174. 6013.\n",
      " 5459. 4986. 5146. 5458. 5778. 5564. 4841. 4959. 5628. 6274. 5978. 6035.\n",
      " 4959. 4734. 4750. 5542. 5106. 5061. 4573. 4851. 5337. 6300. 5425. 6513.\n",
      " 5257. 4734. 5064. 5841. 6038. 5691. 4964. 4739. 5323. 6394. 5029. 5727.\n",
      " 5159. 4838. 5029. 5711. 6100. 5481. 4950. 4961. 5563. 6333. 6232. 5696.\n",
      " 5486. 4807. 4974. 5661. 5945. 5342. 5100. 4754. 5014. 5981. 6465. 6069.\n",
      " 5617. 4996. 5007. 5447. 5826. 5366. 4975. 4946. 5883. 6289. 6651. 6031.\n",
      " 5664. 4891. 5179. 5483. 5581. 5502. 4899. 4978. 6080. 6824. 5248. 5370.\n",
      " 5055. 4809. 5288. 5584. 5783. 5508. 5153. 4956. 6017. 7011. 5916. 6139.\n",
      " 5236. 4760. 5421. 6257. 5963. 5462. 4860. 4938. 5185. 6373. 7549. 6314.\n",
      " 5474. 4946. 5112. 5610. 5844. 5480. 4902. 4807. 5682. 5905. 5902. 5980.\n",
      " 5560. 5280. 5282. 5974. 5677. 5759. 5856. 5968. 6098. 6246. 6412. 6597.\n",
      " 7030. 7279. 7550. 7846. 8165. 8510. 8881. 9278.]\n"
     ]
    },
    {
     "data": {
      "text/plain": [
       "<Axes: xlabel='Year', ylabel='PJMW'>"
      ]
     },
     "execution_count": 39,
     "metadata": {},
     "output_type": "execute_result"
    },
    {
     "data": {
      "image/png": "[encoded data removed]",
      "text/plain": [
       "<Figure size 640x480 with 1 Axes>"
      ]
     },
     "metadata": {},
     "output_type": "display_data"
    }
   ],
   "source": [
    "y = np.concatenate( # y-vals of graph -> PJMWs\n",
    "    (avg_per_year_month, regr_avg_per_year_month),\n",
    "    axis=0)\n",
    "\n",
    "x = np.concatenate( # x-vals of graph -> Years\n",
    "    (x_Years, new_years),\n",
    "    axis=0\n",
    ")\n",
    "\n",
    "print(x)\n",
    "print(y)\n",
    "\n",
    "yr_v_pjmw = {'Year':x, 'PJMW':y} # creating dictionary of labeled columns\n",
    "\n",
    "plotDF = pd.DataFrame(yr_v_pjmw) # creating dataframe from dictionary for plotting\n",
    "\n",
    "sbn.lineplot(data=plotDF, x='Year', y='PJMW')"
   ]
  },
  {
   "cell_type": "code",
   "execution_count": null,
   "metadata": {},
   "outputs": [],
   "source": []
  },
  {
   "cell_type": "markdown",
   "metadata": {},
   "source": [
    "#### East-region"
   ]
  },
  {
   "cell_type": "code",
   "execution_count": null,
   "metadata": {},
   "outputs": [],
   "source": [
    "# Using numerical methods to create a model from each dataset\n"
   ]
  }
 ],
 "metadata": {
  "kernelspec": {
   "display_name": "Python 3",
   "language": "python",
   "name": "python3"
  },
  "language_info": {
   "codemirror_mode": {
    "name": "ipython",
    "version": 3
   },
   "file_extension": ".py",
   "mimetype": "text/x-python",
   "name": "python",
   "nbconvert_exporter": "python",
   "pygments_lexer": "ipython3",
   "version": "3.11.5"
  }
 },
 "nbformat": 4,
 "nbformat_minor": 2
}
