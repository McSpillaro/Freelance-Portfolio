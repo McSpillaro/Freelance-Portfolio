{
 "cells": [
  {
   "cell_type": "markdown",
   "metadata": {},
   "source": [
    "## Predicting Energy Consumption from PJM (in MW)\n",
    "\n",
    "Will also be comparing energy consumption from the East and West Regions of the United States as well as their projected energy consumption."
   ]
  },
  {
   "cell_type": "markdown",
   "metadata": {},
   "source": [
    "#### Functions & Imports"
   ]
  },
  {
   "cell_type": "code",
   "execution_count": 45,
   "metadata": {},
   "outputs": [],
   "source": [
    "import pandas as pd\n",
    "import seaborn as sbn\n",
    "import plotly as plt\n",
    "import scipy.optimize as sp\n",
    "import math as m\n",
    "import numpy as np"
   ]
  },
  {
   "cell_type": "code",
   "execution_count": 46,
   "metadata": {},
   "outputs": [],
   "source": [
    "def lagrange(x, y, xx):\n",
    "    '''\n",
    "    Lagrange Interpolating Polynomial\n",
    "    Uses n-1 order lagrange interpolating polynomial based on n number of data points to \n",
    "    return a value of the dependent variable yint given the independent variable xx\n",
    "\n",
    "    Input:\n",
    "        x => array of independent variable values\n",
    "        y => array of dependent variable values\n",
    "        xx => desired independent variable to interpolate\n",
    "\n",
    "    Output:\n",
    "        yint => interpolated value\n",
    "    '''\n",
    "\n",
    "    # Checking to see if everything is the same length\n",
    "    n = len(x)\n",
    "    if len(y) != n:\n",
    "        return 'X and Y must be the same length'\n",
    "\n",
    "    # Creating a placeholder\n",
    "    s = 0\n",
    "\n",
    "    for i in range(n):\n",
    "        product = y[i]\n",
    "\n",
    "        for j in range(n):\n",
    "            if i != j:\n",
    "                # This is the weighting equation => L (see slides)\n",
    "                product *= (xx - x[j]) / (x[i] - x[j])\n",
    "        s += product\n",
    "\n",
    "    yint = s\n",
    "    return yint"
   ]
  },
  {
   "cell_type": "code",
   "execution_count": 47,
   "metadata": {},
   "outputs": [
    {
     "data": {
      "text/html": [
       "<div>\n",
       "<style scoped>\n",
       "    .dataframe tbody tr th:only-of-type {\n",
       "        vertical-align: middle;\n",
       "    }\n",
       "\n",
       "    .dataframe tbody tr th {\n",
       "        vertical-align: top;\n",
       "    }\n",
       "\n",
       "    .dataframe thead th {\n",
       "        text-align: right;\n",
       "    }\n",
       "</style>\n",
       "<table border=\"1\" class=\"dataframe\">\n",
       "  <thead>\n",
       "    <tr style=\"text-align: right;\">\n",
       "      <th></th>\n",
       "      <th>Datetime</th>\n",
       "      <th>PJMW_MW</th>\n",
       "    </tr>\n",
       "  </thead>\n",
       "  <tbody>\n",
       "    <tr>\n",
       "      <th>0</th>\n",
       "      <td>2002-12-31 01:00:00</td>\n",
       "      <td>5077.0</td>\n",
       "    </tr>\n",
       "    <tr>\n",
       "      <th>1</th>\n",
       "      <td>2002-12-31 02:00:00</td>\n",
       "      <td>4939.0</td>\n",
       "    </tr>\n",
       "    <tr>\n",
       "      <th>2</th>\n",
       "      <td>2002-12-31 03:00:00</td>\n",
       "      <td>4885.0</td>\n",
       "    </tr>\n",
       "    <tr>\n",
       "      <th>3</th>\n",
       "      <td>2002-12-31 04:00:00</td>\n",
       "      <td>4857.0</td>\n",
       "    </tr>\n",
       "    <tr>\n",
       "      <th>4</th>\n",
       "      <td>2002-12-31 05:00:00</td>\n",
       "      <td>4930.0</td>\n",
       "    </tr>\n",
       "    <tr>\n",
       "      <th>...</th>\n",
       "      <td>...</td>\n",
       "      <td>...</td>\n",
       "    </tr>\n",
       "    <tr>\n",
       "      <th>143201</th>\n",
       "      <td>2018-01-01 20:00:00</td>\n",
       "      <td>8401.0</td>\n",
       "    </tr>\n",
       "    <tr>\n",
       "      <th>143202</th>\n",
       "      <td>2018-01-01 21:00:00</td>\n",
       "      <td>8373.0</td>\n",
       "    </tr>\n",
       "    <tr>\n",
       "      <th>143203</th>\n",
       "      <td>2018-01-01 22:00:00</td>\n",
       "      <td>8238.0</td>\n",
       "    </tr>\n",
       "    <tr>\n",
       "      <th>143204</th>\n",
       "      <td>2018-01-01 23:00:00</td>\n",
       "      <td>7958.0</td>\n",
       "    </tr>\n",
       "    <tr>\n",
       "      <th>143205</th>\n",
       "      <td>2018-01-02 00:00:00</td>\n",
       "      <td>7691.0</td>\n",
       "    </tr>\n",
       "  </tbody>\n",
       "</table>\n",
       "<p>143206 rows × 2 columns</p>\n",
       "</div>"
      ],
      "text/plain": [
       "                   Datetime  PJMW_MW\n",
       "0       2002-12-31 01:00:00   5077.0\n",
       "1       2002-12-31 02:00:00   4939.0\n",
       "2       2002-12-31 03:00:00   4885.0\n",
       "3       2002-12-31 04:00:00   4857.0\n",
       "4       2002-12-31 05:00:00   4930.0\n",
       "...                     ...      ...\n",
       "143201  2018-01-01 20:00:00   8401.0\n",
       "143202  2018-01-01 21:00:00   8373.0\n",
       "143203  2018-01-01 22:00:00   8238.0\n",
       "143204  2018-01-01 23:00:00   7958.0\n",
       "143205  2018-01-02 00:00:00   7691.0\n",
       "\n",
       "[143206 rows x 2 columns]"
      ]
     },
     "execution_count": 47,
     "metadata": {},
     "output_type": "execute_result"
    }
   ],
   "source": [
    "# Importing the csv files and assigning them as dataframes\n",
    "dfw = pd.read_csv('PJMW_hourly.csv')\n",
    "dfe = pd.read_csv('PJME_hourly.csv')\n",
    "dfw"
   ]
  },
  {
   "cell_type": "markdown",
   "metadata": {},
   "source": [
    "#### West-region"
   ]
  },
  {
   "cell_type": "code",
   "execution_count": 52,
   "metadata": {},
   "outputs": [],
   "source": [
    "# Setting values to floats for 'PJMW_MW'\n",
    "pd.to_numeric(dfw['PJMW_MW'])\n",
    "\n",
    "usedYears = [] # Creating list of already used years\n",
    "year = 0 # init the year iter var\n",
    "\n",
    "valsPJMW = [] # Temp. list for averaging PJMW_MW vals per year\n",
    "avgs = [] # avg PJMW vals\n",
    "tmpAVG = 0\n",
    "\n",
    "# Looping through 'dfw' to sort the data by year and create model\n",
    "for row in dfw.itertuples():\n",
    "    year = row[1][0:4] # ind1 -> tuple key | ind2 -> tuple value\n",
    "    if year in usedYears:\n",
    "        valsPJMW.append(row[2])\n",
    "    elif year not in usedYears: # checks for start of new year\n",
    "        if not usedYears: # check for start of loop\n",
    "            usedYears.append(year) # appends curr year to usedYears list\n",
    "            continue\n",
    "        usedYears.append(year) # appends curr year to usedYears list\n",
    "        tmpAVG = np.average(valsPJMW) # averages PJMW vals per year before clearing valsPJMW\n",
    "        avgs.append(round(tmpAVG, 2))\n",
    "        valsPJMW.clear() # clears PJMW vals for new year\n",
    "        \n",
    "usedYears.pop(-1) # removes year 2018 as there are few PJMW vals for it \n",
    "for i in range(len(usedYears)): # type converts usedYears vals from str -> int\n",
    "    usedYears[i] = int(usedYears[i])"
   ]
  },
  {
   "cell_type": "markdown",
   "metadata": {},
   "source": [
    "Regression, Interpolation, and Visualization"
   ]
  },
  {
   "cell_type": "code",
   "execution_count": 74,
   "metadata": {},
   "outputs": [],
   "source": [
    "years = np.array(usedYears) # converting lists to array\n",
    "avgPJMWs = np.array(avgs) # converting lists to array\n",
    "\n",
    "p = np.polyfit(years, avgPJMWs, 1) # 3rd order regression\n",
    "a = p[0] # parameters (coeff) of regression equation -> 1st param\n",
    "b = p[1] # parameters (coeff) of regression equation -> 2nd param"
   ]
  },
  {
   "cell_type": "code",
   "execution_count": 76,
   "metadata": {},
   "outputs": [],
   "source": [
    "def year_vs_PJMW_USWest(x): # defining equation obtained from regression of data\n",
    "    return a*x**2 + b*x"
   ]
  },
  {
   "cell_type": "code",
   "execution_count": null,
   "metadata": {},
   "outputs": [],
   "source": [
    "newYears = [] # temp lists for new years for regression equation\n",
    "newPJMWs = [] # temp lists for new PJMWs from regression equation\n",
    "\n",
    "for year in range(len(usedYears)):\n",
    "    "
   ]
  },
  {
   "cell_type": "markdown",
   "metadata": {},
   "source": [
    "#### East-region"
   ]
  },
  {
   "cell_type": "code",
   "execution_count": null,
   "metadata": {},
   "outputs": [],
   "source": [
    "# Using numerical methods to create a model from each dataset\n"
   ]
  }
 ],
 "metadata": {
  "kernelspec": {
   "display_name": "Python 3",
   "language": "python",
   "name": "python3"
  },
  "language_info": {
   "codemirror_mode": {
    "name": "ipython",
    "version": 3
   },
   "file_extension": ".py",
   "mimetype": "text/x-python",
   "name": "python",
   "nbconvert_exporter": "python",
   "pygments_lexer": "ipython3",
   "version": "3.11.5"
  }
 },
 "nbformat": 4,
 "nbformat_minor": 2
}
