{
 "cells": [
  {
   "cell_type": "markdown",
   "metadata": {},
   "source": [
    "## Predicting Energy Consumption from PJM (in MW)\n",
    "\n",
    "Will also be comparing energy consumption from the East and West Regions of the United States as well as their projected energy consumption."
   ]
  },
  {
   "cell_type": "markdown",
   "metadata": {},
   "source": [
    "#### Functions & Imports"
   ]
  },
  {
   "cell_type": "code",
   "execution_count": 1,
   "metadata": {},
   "outputs": [],
   "source": [
    "import pandas as pd\n",
    "import seaborn as sns\n",
    "import plotly as plt\n",
    "import scipy.optimize as sp\n",
    "import math as m\n",
    "import numpy as np\n",
    "from statsmodels.tsa.statespace.sarimax import SARIMAX"
   ]
  },
  {
   "cell_type": "code",
   "execution_count": 2,
   "metadata": {},
   "outputs": [],
   "source": [
    "def forecast_future_values(X_VALS, Y_VALS, periods=24, frq='MS'):\n",
    "    '''\n",
    "    Create a set of values predicted from an auto-regression model based on\n",
    "    a given set of data.\n",
    "    \n",
    "    Input:\n",
    "    X_VALS => list of x-values given\n",
    "    Y_VALS => list of y-values given\n",
    "    periods (Default: 24) => time alotted; each period (1) corresponds to the frequency input\n",
    "    frq (Default: 'MS') => the frequency which observations are recorded\n",
    "    '''\n",
    "    # Convert X_VALS and Y_VALS to pandas series\n",
    "    dates = pd.date_range(start='2002-01-01', periods=len(X_VALS), freq=frq)\n",
    "    data = pd.Series(Y_VALS, index=dates)\n",
    "    \n",
    "    # Fit SARIMA model\n",
    "    # Based on ACF and PACF plots, SARIMA(1,0,1)(1,1,1,12) is chosen\n",
    "    model = SARIMAX(data, order=(1,0,1), seasonal_order=(1,1,1,12))\n",
    "    results = model.fit()\n",
    "    \n",
    "    # Forecast future values\n",
    "    forecast = results.forecast(steps=periods) # forecasting for specified num. of periods\n",
    "    \n",
    "    return forecast.tolist()"
   ]
  },
  {
   "cell_type": "code",
   "execution_count": 3,
   "metadata": {},
   "outputs": [],
   "source": [
    "def newtint(x, y, xx):\n",
    "    '''\n",
    "    Function that uses a Newton Interpolating Polynomial\n",
    "    Uses n-1 order polynomial given an n amount of data points to\n",
    "    return a value of the dependent variable => yint at a provided\n",
    "    independent variable => xx\n",
    "\n",
    "    Input:\n",
    "        x => array of independent variables\n",
    "        y => array of dependent variables\n",
    "        xx => desired x-value to interpolate\n",
    "\n",
    "    Output:\n",
    "        yint => interpolated value at xx\n",
    "    '''\n",
    "\n",
    "    # Check if the data is the same length\n",
    "    n = len(x)\n",
    "    if len(y) != n:\n",
    "        return 'X and Y must be the same length.'\n",
    "\n",
    "    # Initialize holder for calculations -> used to fill with dependent variables\n",
    "    b = np.zeros((n, n))\n",
    "    # Assign dependent variables to the 1st column of b for all rows in that column\n",
    "    b[:, 0] = np.transpose(y)  # switch from input row to input column in b\n",
    "\n",
    "    # Looping through each value in array to calculate the divided differences\n",
    "    for j in range(1, n):\n",
    "        for i in range(n-j):\n",
    "            # Equation for divided differences based on next and prev points (see slides)\n",
    "            b[i, j] = (b[i+1, j-1] - b[i, j-1]) / (x[i+j] - x[i])\n",
    "\n",
    "    xt = 1\n",
    "    yint = b[0, 0]\n",
    "\n",
    "    # Solves for yint based on xx and divided differences\n",
    "    for j in range(n-1):\n",
    "        xt *= (xx - x[j])\n",
    "        yint += b[0, j+1] * xt\n",
    "\n",
    "    return yint"
   ]
  },
  {
   "cell_type": "code",
   "execution_count": 4,
   "metadata": {},
   "outputs": [],
   "source": [
    "def lagrange(x, y, xx):\n",
    "    '''\n",
    "    Lagrange Interpolating Polynomial\n",
    "    Uses n-1 order lagrange interpolating polynomial based on n number of data points to \n",
    "    return a value of the dependent variable yint given the independent variable xx\n",
    "\n",
    "    Input:\n",
    "        x => array of independent variable values\n",
    "        y => array of dependent variable values\n",
    "        xx => desired independent variable to interpolate\n",
    "\n",
    "    Output:\n",
    "        yint => interpolated value\n",
    "    '''\n",
    "\n",
    "    # Checking to see if everything is the same length\n",
    "    n = len(x)\n",
    "    if len(y) != n:\n",
    "        return 'X and Y must be the same length'\n",
    "\n",
    "    # Creating a placeholder\n",
    "    s = 0\n",
    "\n",
    "    for i in range(n):\n",
    "        product = y[i]\n",
    "\n",
    "        for j in range(n):\n",
    "            if i != j:\n",
    "                # This is the weighting equation => L (see slides)\n",
    "                product *= (xx - x[j]) / (x[i] - x[j])\n",
    "        s += product\n",
    "\n",
    "    yint = s\n",
    "    return yint"
   ]
  },
  {
   "cell_type": "code",
   "execution_count": 5,
   "metadata": {},
   "outputs": [],
   "source": [
    "# Importing the csv files and assigning them as dataframes\n",
    "dfw = pd.read_csv('PJMW_hourly.csv')\n",
    "dfe = pd.read_csv('PJME_hourly.csv')"
   ]
  },
  {
   "cell_type": "markdown",
   "metadata": {},
   "source": [
    "#### West-region"
   ]
  },
  {
   "cell_type": "code",
   "execution_count": 12,
   "metadata": {},
   "outputs": [
    {
     "data": {
      "text/plain": [
       "'2018'"
      ]
     },
     "execution_count": 12,
     "metadata": {},
     "output_type": "execute_result"
    }
   ],
   "source": [
    "# Setting values to floats for 'PJMW_MW'\n",
    "pd.to_numeric(dfw['PJMW_MW'])\n",
    "\n",
    "used_year_month = [] # Creating list of already used months per year\n",
    "used_year = [] # Creating list of already used years\n",
    "year_month = 0 # init the year_month iter var\n",
    "year_only = 0 # init the year_only iter var\n",
    "\n",
    "PJMW_per_month = [] # tmp list for averaging PJMW_MW vals per month\n",
    "PJMW_per_year = [] # tmp list for collecting PJMW vals in one whole year for avg\n",
    "avg_per_year_month = [] # avg PJMW vals per month\n",
    "avg_per_year = [] # avg PJMW vals per year\n",
    "\n",
    "tmp_avg = 0 # tmp avg for years only\n",
    "\n",
    "# Looping through 'dfw' to sort the data by year and month and create model\n",
    "for row in dfw.itertuples():\n",
    "    year_month = row[1][0:7] # ind1 -> tuple key | ind2 -> tuple value\n",
    "    if year_month in used_year_month: # checks if current year-mnth in list\n",
    "        PJMW_per_month.append(row[2]) # appends that PJMW value\n",
    "    elif year_month not in used_year_month: # checks for start of new year\n",
    "        if not used_year_month: # check for start of loop\n",
    "            used_year_month.append(year_month) # appends curr year to usedYears list\n",
    "            continue\n",
    "        used_year_month.append(year_month) # appends curr year to usedYears list\n",
    "        tmpAVG = np.average(PJMW_per_month) # averages PJMW vals per year before clearing valsPJMW\n",
    "        avg_per_year_month.append(round(tmpAVG, 0))\n",
    "        PJMW_per_month.clear() # clears PJMW vals for new year\n",
    "\n",
    "# Looping through 'dfw' to sort the data by year only and create model\n",
    "for row in dfw.itertuples():\n",
    "    year_only = row[1][0:4] # ind1 -> tuple key | ind2 -> tuple value\n",
    "    if year_only in used_year:\n",
    "        PJMW_per_year.append(row[2])\n",
    "    elif year_only not in used_year: # checks for start of new year\n",
    "        if not used_year: # check for start of loop\n",
    "            used_year.append(year_only) # appends curr year to usedYears list\n",
    "            continue\n",
    "        used_year.append(year_only) # appends curr year to usedYears list\n",
    "        tmp_avg = np.average(PJMW_per_year) # averages PJMW vals per year before clearing valsPJMW\n",
    "        avg_per_year.append(round(tmpAVG, 0))\n",
    "        PJMW_per_year.clear() # clears PJMW vals for new year\n",
    "    \n",
    "# Global CONSTANT for length of used_year_month to keep consistancy for future arrays\n",
    "array_len_ym_const = len(used_year_month)\n",
    "# Global CONSTANT for length of used_year to keep consistancy for future arrays\n",
    "array_len_y_const = len(used_year)\n",
    "\n",
    "years_months_list = [] # list of years with dec. for months used for graphing\n",
    "\n",
    "years_list_curr_val = int(dfw['Datetime'][0][0:4]) # sets current year value to 2002\n",
    "for i in range(array_len_ym_const): # loops through length of array_length_const\n",
    "    years_months_list.append(round(years_list_curr_val, 2)) # appends to the list for graphing\n",
    "    years_list_curr_val += 1 / 12 # math to add onto the list evenly\n",
    "years_months_list.pop(-1) # removes last value from years_months_list (extra created from loop)\n",
    "\n",
    "used_year.pop(-1) # removes last value from years_list"
   ]
  },
  {
   "cell_type": "markdown",
   "metadata": {},
   "source": [
    "Regression, Interpolation, and Visualization"
   ]
  },
  {
   "cell_type": "code",
   "execution_count": 34,
   "metadata": {},
   "outputs": [],
   "source": [
    "x_Years_Months = np.array(years_months_list)\n",
    "y_PJMW_YM = np.array(avg_per_year_month)\n",
    "\n",
    "x_Years = np.array(used_year)\n",
    "y_PJMW_Y = np.array(avg_per_year)"
   ]
  },
  {
   "cell_type": "code",
   "execution_count": 54,
   "metadata": {},
   "outputs": [],
   "source": [
    "start_year = 2018 # year to start regression from\n",
    "end_year = start_year + 16 # creating a regression of 17 years\n",
    "end_year_months = start_year + 2 # year to end regression\n",
    "new_year = []\n",
    "for i in range(end_year - start_year):\n",
    "    new_year.append(start_year + i)\n",
    "new_years_months = np.linspace(start_year, end_year_months, 24) # year values as list"
   ]
  },
  {
   "cell_type": "code",
   "execution_count": 47,
   "metadata": {},
   "outputs": [
    {
     "name": "stderr",
     "output_type": "stream",
     "text": [
      "c:\\Python311\\Lib\\site-packages\\statsmodels\\tsa\\statespace\\sarimax.py:866: UserWarning: Too few observations to estimate starting parameters for seasonal ARMA. All parameters except for variances will be set to zeros.\n",
      "  warn('Too few observations to estimate starting parameters%s.'\n",
      "c:\\Python311\\Lib\\site-packages\\statsmodels\\base\\model.py:607: ConvergenceWarning: Maximum Likelihood optimization failed to converge. Check mle_retvals\n",
      "  warnings.warn(\"Maximum Likelihood optimization failed to \"\n"
     ]
    }
   ],
   "source": [
    "regr_avg_per_year = forecast_future_values(used_year, avg_per_year, periods=16, frq='AS')\n",
    "regr_avg_per_year_month = forecast_future_values(years_months_list, avg_per_year_month, periods=24, frq='MS')"
   ]
  },
  {
   "cell_type": "code",
   "execution_count": 48,
   "metadata": {},
   "outputs": [],
   "source": [
    "y = np.concatenate( # y-vals of graph -> PJMWs\n",
    "    (avg_per_year_month, regr_avg_per_year_month),\n",
    "    axis=0)\n",
    "\n",
    "x = np.concatenate( # x-vals of graph -> Years\n",
    "    (x_Years_Months, new_years_months),\n",
    "    axis=0\n",
    ")\n",
    "\n",
    "# Creating dictionary of labeled columns\n",
    "yr_m_v_pjmw = {'Title':'PJM Energy Production from 2002 to 2020',\n",
    "             'Year':x, \n",
    "             'PJMW':y}\n",
    "\n",
    "plotDF = pd.DataFrame(yr_m_v_pjmw) # creating dataframe from dictionary for plotting"
   ]
  },
  {
   "cell_type": "code",
   "execution_count": 55,
   "metadata": {},
   "outputs": [
    {
     "data": {
      "text/html": [
       "<div>\n",
       "<style scoped>\n",
       "    .dataframe tbody tr th:only-of-type {\n",
       "        vertical-align: middle;\n",
       "    }\n",
       "\n",
       "    .dataframe tbody tr th {\n",
       "        vertical-align: top;\n",
       "    }\n",
       "\n",
       "    .dataframe thead th {\n",
       "        text-align: right;\n",
       "    }\n",
       "</style>\n",
       "<table border=\"1\" class=\"dataframe\">\n",
       "  <thead>\n",
       "    <tr style=\"text-align: right;\">\n",
       "      <th></th>\n",
       "      <th>Year</th>\n",
       "      <th>PJMW</th>\n",
       "    </tr>\n",
       "  </thead>\n",
       "  <tbody>\n",
       "    <tr>\n",
       "      <th>0</th>\n",
       "      <td>2002</td>\n",
       "      <td>5974.0</td>\n",
       "    </tr>\n",
       "    <tr>\n",
       "      <th>1</th>\n",
       "      <td>2003</td>\n",
       "      <td>5974.0</td>\n",
       "    </tr>\n",
       "    <tr>\n",
       "      <th>2</th>\n",
       "      <td>2004</td>\n",
       "      <td>5974.0</td>\n",
       "    </tr>\n",
       "    <tr>\n",
       "      <th>3</th>\n",
       "      <td>2005</td>\n",
       "      <td>5974.0</td>\n",
       "    </tr>\n",
       "    <tr>\n",
       "      <th>4</th>\n",
       "      <td>2006</td>\n",
       "      <td>5974.0</td>\n",
       "    </tr>\n",
       "    <tr>\n",
       "      <th>5</th>\n",
       "      <td>2007</td>\n",
       "      <td>5974.0</td>\n",
       "    </tr>\n",
       "    <tr>\n",
       "      <th>6</th>\n",
       "      <td>2008</td>\n",
       "      <td>5974.0</td>\n",
       "    </tr>\n",
       "    <tr>\n",
       "      <th>7</th>\n",
       "      <td>2009</td>\n",
       "      <td>5974.0</td>\n",
       "    </tr>\n",
       "    <tr>\n",
       "      <th>8</th>\n",
       "      <td>2010</td>\n",
       "      <td>5974.0</td>\n",
       "    </tr>\n",
       "    <tr>\n",
       "      <th>9</th>\n",
       "      <td>2011</td>\n",
       "      <td>5974.0</td>\n",
       "    </tr>\n",
       "    <tr>\n",
       "      <th>10</th>\n",
       "      <td>2012</td>\n",
       "      <td>5974.0</td>\n",
       "    </tr>\n",
       "    <tr>\n",
       "      <th>11</th>\n",
       "      <td>2013</td>\n",
       "      <td>5974.0</td>\n",
       "    </tr>\n",
       "    <tr>\n",
       "      <th>12</th>\n",
       "      <td>2014</td>\n",
       "      <td>5974.0</td>\n",
       "    </tr>\n",
       "    <tr>\n",
       "      <th>13</th>\n",
       "      <td>2015</td>\n",
       "      <td>5974.0</td>\n",
       "    </tr>\n",
       "    <tr>\n",
       "      <th>14</th>\n",
       "      <td>2016</td>\n",
       "      <td>5974.0</td>\n",
       "    </tr>\n",
       "    <tr>\n",
       "      <th>15</th>\n",
       "      <td>2017</td>\n",
       "      <td>5974.0</td>\n",
       "    </tr>\n",
       "    <tr>\n",
       "      <th>16</th>\n",
       "      <td>2018</td>\n",
       "      <td>5974.0</td>\n",
       "    </tr>\n",
       "    <tr>\n",
       "      <th>17</th>\n",
       "      <td>2019</td>\n",
       "      <td>5974.0</td>\n",
       "    </tr>\n",
       "    <tr>\n",
       "      <th>18</th>\n",
       "      <td>2020</td>\n",
       "      <td>5974.0</td>\n",
       "    </tr>\n",
       "    <tr>\n",
       "      <th>19</th>\n",
       "      <td>2021</td>\n",
       "      <td>5974.0</td>\n",
       "    </tr>\n",
       "    <tr>\n",
       "      <th>20</th>\n",
       "      <td>2022</td>\n",
       "      <td>5974.0</td>\n",
       "    </tr>\n",
       "    <tr>\n",
       "      <th>21</th>\n",
       "      <td>2023</td>\n",
       "      <td>5974.0</td>\n",
       "    </tr>\n",
       "    <tr>\n",
       "      <th>22</th>\n",
       "      <td>2024</td>\n",
       "      <td>5974.0</td>\n",
       "    </tr>\n",
       "    <tr>\n",
       "      <th>23</th>\n",
       "      <td>2025</td>\n",
       "      <td>5974.0</td>\n",
       "    </tr>\n",
       "    <tr>\n",
       "      <th>24</th>\n",
       "      <td>2026</td>\n",
       "      <td>5974.0</td>\n",
       "    </tr>\n",
       "    <tr>\n",
       "      <th>25</th>\n",
       "      <td>2027</td>\n",
       "      <td>5974.0</td>\n",
       "    </tr>\n",
       "    <tr>\n",
       "      <th>26</th>\n",
       "      <td>2028</td>\n",
       "      <td>5974.0</td>\n",
       "    </tr>\n",
       "    <tr>\n",
       "      <th>27</th>\n",
       "      <td>2029</td>\n",
       "      <td>5974.0</td>\n",
       "    </tr>\n",
       "    <tr>\n",
       "      <th>28</th>\n",
       "      <td>2030</td>\n",
       "      <td>5974.0</td>\n",
       "    </tr>\n",
       "    <tr>\n",
       "      <th>29</th>\n",
       "      <td>2031</td>\n",
       "      <td>5974.0</td>\n",
       "    </tr>\n",
       "    <tr>\n",
       "      <th>30</th>\n",
       "      <td>2032</td>\n",
       "      <td>5974.0</td>\n",
       "    </tr>\n",
       "    <tr>\n",
       "      <th>31</th>\n",
       "      <td>2033</td>\n",
       "      <td>5974.0</td>\n",
       "    </tr>\n",
       "  </tbody>\n",
       "</table>\n",
       "</div>"
      ],
      "text/plain": [
       "    Year    PJMW\n",
       "0   2002  5974.0\n",
       "1   2003  5974.0\n",
       "2   2004  5974.0\n",
       "3   2005  5974.0\n",
       "4   2006  5974.0\n",
       "5   2007  5974.0\n",
       "6   2008  5974.0\n",
       "7   2009  5974.0\n",
       "8   2010  5974.0\n",
       "9   2011  5974.0\n",
       "10  2012  5974.0\n",
       "11  2013  5974.0\n",
       "12  2014  5974.0\n",
       "13  2015  5974.0\n",
       "14  2016  5974.0\n",
       "15  2017  5974.0\n",
       "16  2018  5974.0\n",
       "17  2019  5974.0\n",
       "18  2020  5974.0\n",
       "19  2021  5974.0\n",
       "20  2022  5974.0\n",
       "21  2023  5974.0\n",
       "22  2024  5974.0\n",
       "23  2025  5974.0\n",
       "24  2026  5974.0\n",
       "25  2027  5974.0\n",
       "26  2028  5974.0\n",
       "27  2029  5974.0\n",
       "28  2030  5974.0\n",
       "29  2031  5974.0\n",
       "30  2032  5974.0\n",
       "31  2033  5974.0"
      ]
     },
     "execution_count": 55,
     "metadata": {},
     "output_type": "execute_result"
    }
   ],
   "source": [
    "yy = np.concatenate(\n",
    "    (avg_per_year, regr_avg_per_year),\n",
    "    axis=0\n",
    ")\n",
    "\n",
    "xx = np.concatenate(\n",
    "    (x_Years, new_year),\n",
    "    axis=0\n",
    ")\n",
    "\n",
    "yr_v_pjmw = {'Year':xx,\n",
    "             'PJMW':yy}\n",
    "\n",
    "plotDF2 = pd.DataFrame(yr_v_pjmw)\n",
    "plotDF2"
   ]
  },
  {
   "cell_type": "code",
   "execution_count": 37,
   "metadata": {},
   "outputs": [
    {
     "data": {
      "text/plain": [
       "<Axes: xlabel='Year', ylabel='PJMW'>"
      ]
     },
     "execution_count": 37,
     "metadata": {},
     "output_type": "execute_result"
    },
    {
     "data": {
      "image/png": "[encoded data removed]",
      "text/plain": [
       "<Figure size 640x480 with 1 Axes>"
      ]
     },
     "metadata": {},
     "output_type": "display_data"
    }
   ],
   "source": [
    "sns.lineplot(data=plotDF,\n",
    "             x='Year',\n",
    "             y='PJMW')"
   ]
  },
  {
   "cell_type": "code",
   "execution_count": 41,
   "metadata": {},
   "outputs": [
    {
     "data": {
      "text/plain": [
       "<Axes: xlabel='Year', ylabel='PJMW'>"
      ]
     },
     "execution_count": 41,
     "metadata": {},
     "output_type": "execute_result"
    },
    {
     "data": {
      "image/png": "[encoded data removed]",
      "text/plain": [
       "<Figure size 640x480 with 1 Axes>"
      ]
     },
     "metadata": {},
     "output_type": "display_data"
    }
   ],
   "source": [
    "sns.lineplot(data=plotDF2,\n",
    "             x='Year',\n",
    "             y='PJMW')"
   ]
  },
  {
   "cell_type": "markdown",
   "metadata": {},
   "source": [
    "#### East-region"
   ]
  },
  {
   "cell_type": "code",
   "execution_count": null,
   "metadata": {},
   "outputs": [],
   "source": [
    "# Using numerical methods to create a model from each dataset\n"
   ]
  }
 ],
 "metadata": {
  "kernelspec": {
   "display_name": "Python 3",
   "language": "python",
   "name": "python3"
  },
  "language_info": {
   "codemirror_mode": {
    "name": "ipython",
    "version": 3
   },
   "file_extension": ".py",
   "mimetype": "text/x-python",
   "name": "python",
   "nbconvert_exporter": "python",
   "pygments_lexer": "ipython3",
   "version": "3.11.5"
  }
 },
 "nbformat": 4,
 "nbformat_minor": 2
}
